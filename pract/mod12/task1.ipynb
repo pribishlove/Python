{
  "nbformat": 4,
  "nbformat_minor": 0,
  "metadata": {
    "colab": {
      "provenance": []
    },
    "kernelspec": {
      "name": "python3",
      "display_name": "Python 3"
    },
    "language_info": {
      "name": "python"
    }
  },
  "cells": [
    {
      "cell_type": "code",
      "execution_count": null,
      "metadata": {
        "id": "Dv0_cwol75Fz"
      },
      "outputs": [],
      "source": [
        "#Задание 1.\n",
        "import sqlite3\n",
        "import pandas as pd"
      ]
    },
    {
      "cell_type": "code",
      "source": [
        "conn_old = sqlite3.connect('netflix.sqlite')\n",
        "cursor_old = conn_old.cursor()"
      ],
      "metadata": {
        "id": "OgV7nZ_G9lDa"
      },
      "execution_count": null,
      "outputs": []
    },
    {
      "cell_type": "code",
      "source": [
        "netflix_data = pd.read_sql_query('SELECT * FROM netflix_titles', conn_old)"
      ],
      "metadata": {
        "id": "-quWJO889mnT"
      },
      "execution_count": null,
      "outputs": []
    },
    {
      "cell_type": "code",
      "source": [
        "conn_new = sqlite3.connect('task1.sqlite')\n",
        "cursor_new = conn_new.cursor()"
      ],
      "metadata": {
        "id": "AFsKL7hg9piV"
      },
      "execution_count": null,
      "outputs": []
    },
    {
      "cell_type": "code",
      "source": [
        "cursor_new.execute('''\n",
        "    CREATE TABLE IF NOT EXISTS actors (\n",
        "        actor_id INTEGER PRIMARY KEY AUTOINCREMENT,\n",
        "        actor_name TEXT NOT NULL\n",
        "    )\n",
        "''')"
      ],
      "metadata": {
        "colab": {
          "base_uri": "https://localhost:8080/"
        },
        "id": "ny5WaUqG9rit",
        "outputId": "60fc2bc3-b336-4bca-b7fb-24a593788613"
      },
      "execution_count": null,
      "outputs": [
        {
          "output_type": "execute_result",
          "data": {
            "text/plain": [
              "<sqlite3.Cursor at 0x7d5cd70fc6c0>"
            ]
          },
          "metadata": {},
          "execution_count": 5
        }
      ]
    },
    {
      "cell_type": "code",
      "source": [
        "cursor_new.execute('''\n",
        "    CREATE TABLE IF NOT EXISTS movies (\n",
        "        movie_id INTEGER PRIMARY KEY AUTOINCREMENT,\n",
        "        show_id TEXT NOT NULL,\n",
        "        type TEXT,\n",
        "        title TEXT,\n",
        "        director TEXT,\n",
        "        country TEXT,\n",
        "        date_added TEXT,\n",
        "        release_year INTEGER,\n",
        "        rating TEXT,\n",
        "        duration TEXT,\n",
        "        listed_in TEXT,\n",
        "        description TEXT\n",
        "    )\n",
        "''')"
      ],
      "metadata": {
        "colab": {
          "base_uri": "https://localhost:8080/"
        },
        "id": "Fx9Emc269u66",
        "outputId": "317e7809-98fe-4fce-ccc9-fc6894492459"
      },
      "execution_count": null,
      "outputs": [
        {
          "output_type": "execute_result",
          "data": {
            "text/plain": [
              "<sqlite3.Cursor at 0x7d5cd70fc6c0>"
            ]
          },
          "metadata": {},
          "execution_count": 6
        }
      ]
    },
    {
      "cell_type": "code",
      "source": [
        "cursor_new.execute('''\n",
        "    CREATE TABLE IF NOT EXISTS actor_movie (\n",
        "        actor_name TEXT,\n",
        "        title TEXT,\n",
        "        PRIMARY KEY (actor_name, title),\n",
        "        FOREIGN KEY (actor_name) REFERENCES actors (actor_name),\n",
        "        FOREIGN KEY (title) REFERENCES movies (title)\n",
        "    )\n",
        "''')"
      ],
      "metadata": {
        "colab": {
          "base_uri": "https://localhost:8080/"
        },
        "id": "_YEuCQV990Oe",
        "outputId": "acd0b3b0-d4eb-41cf-c4bb-8cd53c9fa532"
      },
      "execution_count": null,
      "outputs": [
        {
          "output_type": "execute_result",
          "data": {
            "text/plain": [
              "<sqlite3.Cursor at 0x7d5cd70fc6c0>"
            ]
          },
          "metadata": {},
          "execution_count": 7
        }
      ]
    },
    {
      "cell_type": "code",
      "source": [
        "actors_data = pd.DataFrame({'actor_name': netflix_data['cast'].str.split(', ').explode().unique()})\n",
        "actors_data.to_sql('actors', conn_new, if_exists='replace', index_label='actor_id')"
      ],
      "metadata": {
        "colab": {
          "base_uri": "https://localhost:8080/"
        },
        "id": "9NXhWydQ93cw",
        "outputId": "358ef6ab-e4a9-45b2-b607-37c69cb1f476"
      },
      "execution_count": null,
      "outputs": [
        {
          "output_type": "execute_result",
          "data": {
            "text/plain": [
              "27406"
            ]
          },
          "metadata": {},
          "execution_count": 8
        }
      ]
    },
    {
      "cell_type": "code",
      "source": [
        "movies_data = netflix_data[['show_id', 'type', 'title', 'director', 'country', 'date_added',\n",
        "                            'release_year', 'rating', 'duration', 'listed_in', 'description']].copy()\n",
        "movies_data.to_sql('movies', conn_new, if_exists='replace', index=False)"
      ],
      "metadata": {
        "colab": {
          "base_uri": "https://localhost:8080/"
        },
        "id": "FG_s_gQY95Oz",
        "outputId": "cc86250d-2ab3-42d9-90b8-1fb6fd92942b"
      },
      "execution_count": null,
      "outputs": [
        {
          "output_type": "execute_result",
          "data": {
            "text/plain": [
              "6234"
            ]
          },
          "metadata": {},
          "execution_count": 9
        }
      ]
    },
    {
      "cell_type": "code",
      "source": [
        "actor_movie_data = pd.DataFrame(columns=['actor_name', 'title'])\n",
        "for _, row in netflix_data.iterrows():\n",
        "    actor_names = row['cast'].split(', ')\n",
        "    title = row['title']\n",
        "    actor_movie_data = pd.concat([actor_movie_data, pd.DataFrame({'actor_name': actor_names, 'title': [title] * len(actor_names)})], ignore_index=True)\n",
        "\n",
        "actor_movie_data.to_sql('actor_movie', conn_new, if_exists='replace', index=False)"
      ],
      "metadata": {
        "colab": {
          "base_uri": "https://localhost:8080/"
        },
        "id": "p8HUaZq597v2",
        "outputId": "45c57c3b-609f-471f-fc70-4cdb58bbf326"
      },
      "execution_count": null,
      "outputs": [
        {
          "output_type": "execute_result",
          "data": {
            "text/plain": [
              "44880"
            ]
          },
          "metadata": {},
          "execution_count": 10
        }
      ]
    },
    {
      "cell_type": "code",
      "source": [
        "conn_old.close()\n",
        "conn_new.commit()\n",
        "conn_new.close()"
      ],
      "metadata": {
        "id": "Wvx0GXsb-AQb"
      },
      "execution_count": null,
      "outputs": []
    },
    {
      "cell_type": "code",
      "source": [
        "#Задание 2. Наиболее часто работающая вместе пара актеров.\n",
        "\n",
        "import sqlite3\n",
        "conn = sqlite3.connect('task1.sqlite')\n",
        "cursor = conn.cursor()"
      ],
      "metadata": {
        "id": "gG5plC13CDZw"
      },
      "execution_count": null,
      "outputs": []
    },
    {
      "cell_type": "code",
      "source": [
        "query = '''\n",
        "    SELECT a1.actor_name AS Actor1, a2.actor_name AS Actor2, COUNT(*) AS MoviesTogether\n",
        "    FROM actor_movie a1\n",
        "    JOIN actor_movie a2 ON a1.title = a2.title AND a1.actor_name < a2.actor_name\n",
        "    GROUP BY a1.actor_name, a2.actor_name\n",
        "    ORDER BY MoviesTogether DESC\n",
        "    LIMIT 1;\n",
        "'''"
      ],
      "metadata": {
        "id": "bDR92KlXCbxe"
      },
      "execution_count": null,
      "outputs": []
    },
    {
      "cell_type": "code",
      "source": [
        "cursor.execute(query)"
      ],
      "metadata": {
        "colab": {
          "base_uri": "https://localhost:8080/"
        },
        "id": "jqaKw_iRCcj8",
        "outputId": "4b2e6285-c9de-4176-88ed-9dbf0d71b4cb"
      },
      "execution_count": null,
      "outputs": [
        {
          "output_type": "execute_result",
          "data": {
            "text/plain": [
              "<sqlite3.Cursor at 0x7821f409ce40>"
            ]
          },
          "metadata": {},
          "execution_count": 4
        }
      ]
    },
    {
      "cell_type": "code",
      "source": [
        "result = cursor.fetchone()"
      ],
      "metadata": {
        "id": "_yvcVbnyCfag"
      },
      "execution_count": null,
      "outputs": []
    },
    {
      "cell_type": "code",
      "source": [
        "print(f\"Наиболее часто работающая пара актеров: {result[0]} и {result[1]}, снялись в {result[2]} фильмах.\")"
      ],
      "metadata": {
        "colab": {
          "base_uri": "https://localhost:8080/"
        },
        "id": "glJoqnShCil5",
        "outputId": "c222e77e-84f7-4bba-ec2d-56891dc8441d"
      },
      "execution_count": 9,
      "outputs": [
        {
          "output_type": "stream",
          "name": "stdout",
          "text": [
            "Наиболее часто работающая пара актеров: John Paul Tremblay и Robb Wells, снялись в 15 фильмах.\n"
          ]
        }
      ]
    },
    {
      "cell_type": "code",
      "source": [
        "conn.close()"
      ],
      "metadata": {
        "id": "IPPbEyg3CkvK"
      },
      "execution_count": null,
      "outputs": []
    }
  ]
}